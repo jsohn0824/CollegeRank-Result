{
  "nbformat": 4,
  "nbformat_minor": 0,
  "metadata": {
    "colab": {
      "provenance": [],
      "include_colab_link": true
    },
    "kernelspec": {
      "name": "python3",
      "display_name": "Python 3"
    },
    "language_info": {
      "name": "python"
    }
  },
  "cells": [
    {
      "cell_type": "markdown",
      "metadata": {
        "id": "view-in-github",
        "colab_type": "text"
      },
      "source": [
        "<a href=\"https://colab.research.google.com/github/jsohn0824/CollegeRank-Result/blob/main/7_Aash_Hackathon_7.ipynb\" target=\"_parent\"><img src=\"https://colab.research.google.com/assets/colab-badge.svg\" alt=\"Open In Colab\"/></a>"
      ]
    },
    {
      "cell_type": "code",
      "execution_count": null,
      "metadata": {
        "colab": {
          "base_uri": "https://localhost:8080/",
          "height": 1000
        },
        "id": "QXjmoWoumMgb",
        "outputId": "a61a041a-7660-49f0-95ee-88d9df622895"
      },
      "outputs": [
        {
          "output_type": "stream",
          "name": "stdout",
          "text": [
            "Drive already mounted at /content/drive; to attempt to forcibly remount, call drive.mount(\"/content/drive\", force_remount=True).\n",
            "Requirement already satisfied: nba_api in /usr/local/lib/python3.11/dist-packages (1.7.0)\n",
            "Requirement already satisfied: numpy<2.0.0,>=1.22.2 in /usr/local/lib/python3.11/dist-packages (from nba_api) (1.26.4)\n",
            "Requirement already satisfied: requests<3.0.0,>=2.32.3 in /usr/local/lib/python3.11/dist-packages (from nba_api) (2.32.3)\n",
            "Requirement already satisfied: charset-normalizer<4,>=2 in /usr/local/lib/python3.11/dist-packages (from requests<3.0.0,>=2.32.3->nba_api) (3.4.1)\n",
            "Requirement already satisfied: idna<4,>=2.5 in /usr/local/lib/python3.11/dist-packages (from requests<3.0.0,>=2.32.3->nba_api) (3.10)\n",
            "Requirement already satisfied: urllib3<3,>=1.21.1 in /usr/local/lib/python3.11/dist-packages (from requests<3.0.0,>=2.32.3->nba_api) (2.3.0)\n",
            "Requirement already satisfied: certifi>=2017.4.17 in /usr/local/lib/python3.11/dist-packages (from requests<3.0.0,>=2.32.3->nba_api) (2025.1.31)\n",
            "{'CHA': 1, 'MIN': 2, 'UTA': 3, 'OKC': 4, 'LAL': 5, 'GSW': 6, 'ATL': 7, 'WAS': 8, 'SAC': 9, 'NOP': 10, 'TOR': 11, 'DAL': 12, 'ORL': 13, 'CLE': 14, 'IND': 15, 'BOS': 16, 'PHX': 17, 'MEM': 18, 'SAS': 19, 'POR': 20, 'DEN': 21, 'MIA': 22, 'PHI': 23, 'MIL': 24, 'HOU': 25, 'NYK': 26, 'DET': 27, 'LAC': 28, 'CHI': 29, 'BKN': 30}\n",
            "{'aaron brooks': 201166, 'aaron gordon': 203932, 'al farouq aminu': 202329, 'al horford': 201143, 'al jefferson': 2744, 'alan anderson': 101187, 'alan crabbe': 203459, 'alex len': 203458, 'alexis ajinca': 201582, 'alonzo gee': 202087, 'amare stoudemire': 2405, 'amir johnson': 101161, 'andre drummond': 203083, 'andre iguodala': 2738, 'andre miller': 1889, 'andre roberson': 203460, 'andrew bogut': 101106, 'andrew wiggins': 203952, 'anthony bennett': 203461, 'anthony davis': 203076, 'anthony morrow': 201627, 'aron baynes': 203382, 'arron afflalo': 201167, 'avery bradley': 202340, 'ben gordon': 2732, 'ben mclemore': 203463, 'beno urdih': 2757, 'bismack biyombo': 202687, 'blake griffin': 201933, 'bojan bogdanovic': 202711, 'boris diaw': 2564, 'bradley beal': 203078, 'brandon bass': 101138, 'brandon jennings': 201943, 'brandon knight': 202688, 'brian roberts': 203148, 'brook lopez': 201572, 'carl landry': 201171, 'carlos boozer': 2430, 'carmelo anthony': 2546, 'caron butler': 2406, 'chandler parsons': 202718, 'channing frye': 101112, 'charlie villanueva': 101111, 'chase budinger': 201978, 'chris andersen': 2365, 'chris bosh': 2547, 'chris copeland': 203142, 'chris kaman': 2549, 'chris paul': 101108, 'cj mccollum': 203468, 'cj miles': 101139, 'cj watson': 201228, 'cody zeller': 203469, 'cole aldrich': 202332, 'cory joseph': 202709, 'courtney lee': 201584, 'damian lillard': 203081, 'damjan rudez': 204014, 'danilo gallinai': 201568, 'danny green': 201980, 'dante cunningham': 201967, 'dante exum': 203957, 'darrell arthur': 201589, 'darren collison': 201954, 'david west': 2561, 'deandre jordan': 201599, 'demarcus cousins': 202326, 'demarre carroll': 201960, 'dennis schroder': 203471, 'deron williams': 101114, 'derrick favors': 202324, 'derrick rose': 201565, 'derrick williams': 202682, 'devin harris': 2734, 'dirk nowtizski': 1717, 'dj augustin': 201571, 'donald sloan': 202388, 'donatas motiejunas': 202700, 'draymond green': 203110, 'dwayne wade': 2548, 'dwight howard': 2730, 'ed davis': 202334, 'elfrid payton': 203901, 'enes kanter': 202683, 'eric bledsoe': 202339, 'evan fournier': 203095, 'evan turner': 202323, 'garrett temple': 202066, 'gary neal': 202390, 'gerald green': 101123, 'gerald henderson': 201945, 'giannis antetokounmpo': 203507, 'glen davis': 201175, 'goran dragic': 201609, 'gordon hayward': 202330, 'gorgui dieng': 203476, 'greg monroe': 202328, 'greg smith': 202962, 'greivis vasquez': 202349, 'harrison barnes': 203084, 'hedo turkoglu': 2045, 'henry sims': 203156, 'hollis thompson': 203138, 'isaiah thomas': 202738, 'jakarr sampson': 203960, 'jamal crawford': 2037, 'james ennis': 203516, 'james harden': 201935, 'james johnson': 201949, 'jared dudley': 201162, 'jared sullinger': 203096, 'jarrett jack': 101127, 'jason maxiell': 101131, 'jason smith': 201160, 'jason terry': 1891, 'jason thompson': 201574, 'jeff green': 201145, 'jeff teague': 201952, 'jerami grant': 203924, 'jeremy lamb': 203087, 'jeremy lin': 202391, 'jerome jordan': 202366, 'jerryd bayless': 201573, 'jimmer dredette': 202690, 'jimmy butler': 202710, 'jj hickson': 201581, 'jj redick': 200755, 'joakim noah': 201149, 'joe harris': 203925, 'joe johnson': 2207, 'joey dorsey': 201595, 'john henson': 203089, 'john wall': 202322, 'jon ingles': 204060, 'jon leuer': 202720, 'jonas jerebko': 201973, 'jonas valanciunas': 202685, 'jordan farmar': 200770, 'jordan hill': 201941, 'jose calderon': 101181, 'jose juan barea': 200826, 'jrue holiday': 201950, 'jusuf nurkic': 203994, 'kawhi leonard': 202695, 'kelly olynyk': 203482, 'kemba walker': 202689, 'kendrick perkins': 2570, 'kenneth faried': 202702, 'kent bazemore': 203145, 'kentavious caldwell-pope': 203484, 'kevin garnett': 708, 'kevin love': 201567, 'kevin seraphin': 202338, 'khris middleton': 203114, 'kirk hinrich': 2550, 'kj mcdaniels': 203909, 'klay thompson': 202691, 'kobe bryant': 977, 'kosta koufos': 201585, 'kostas papanikolaou': 203123, 'kris humphries': 2743, 'kyle korver': 2594, 'kyle lowry': 200768, 'kyle oquinn': 203124, 'kyle singler': 202713, 'kyrie irving': 202681, 'lamarcus aldridge': 200746, 'lance stephenson': 202362, 'lavoy allen': 202730, 'leandro barbosa': 2571, 'lebron james': 2544, 'lou williams': 101150, 'luc mbah a moute': 201601, 'luis scola': 2449, 'luke babbitt': 202337, 'luol deng': 2736, 'manu ginobili': 1938, 'marc gasol': 201188, 'marcin gortat': 101162, 'marco belinelli': 201158, 'marcus morris': 202694, 'marcus smart': 203935, 'marcus thornton': 201977, 'mario chalmers': 201596, 'markieff morris': 202693, 'marreese speights': 201578, 'marvin williams': 101107, 'mason plumlee': 203486, 'matt barnes': 2440, 'matt bonner': 2588, 'matthew dellavedova': 203521, 'michael carter-williams': 203487, 'michael kidd-gilchrist': 203077, 'mike conley': 201144, 'mike miller': 2034, 'mike scott': 203118, 'mirza teletovic': 203141, 'mnta ellis': 101145, 'mo williams': 2590, 'nate robinson': 101126, 'nene hilario': 2403, 'nerles noel': 203457, 'nick collison': 2555, 'nick young': 201156, 'nicolas batum': 201587, 'nik stauskas': 203917, 'nikola mirotic': 202703, 'nikola vucevic': 202696, 'norris cole': 202708, 'oj mayo': 201564, 'omer asik': 201600, 'omri casspi': 201956, 'otto porter': 203490, 'pablo prigioni': 203143, 'patrick beverley': 201976, 'patrick patterson': 202335, 'pau gasol': 2200, 'paul millsap': 200794, 'paul pierce': 1718, 'pero antic': 203544, 'pj tucker': 200782, 'quincy acy': 203112, 'ramon sessions': 201196, 'rasual butler': 2446, 'ray mccallum': 203492, 'reggie jackson': 202704, 'richard jefferson': 2210, 'robbie hummel': 203133, 'robert covington': 203496, 'robert sacre': 203135, 'rodney stuckey': 201155, 'ronnie price': 101179, 'roy hibbert': 201579, 'rudy gay': 200752, 'rudy gobert': 203497, 'russell westbrook': 201566, 'ryan anderson': 201583, 'serge ibaka': 201586, 'shabazz muhammad': 203498, 'shabazz napier': 203894, 'shane larkin': 203499, 'shaun livingston': 2733, 'shawn marion': 1890, 'shawne williams': 200761, 'solomon hill': 203524, 'spencer hawes': 201150, 'stephen curry': 201939, 'steve adams': 203500, 'steve blake': 2581, 'taj gibson': 201959, 'terrence ross': 203082, 'thabo sefolosha': 200757, 'thaddeus young': 201152, 'tim duncan': 1495, 'time hardaway jr': 203501, 'timofey mozgov': 202389, 'tobias harris': 202699, 'tony allen': 2754, 'tony parker': 2225, 'tony snell': 203503, 'travis wear': 204037, 'trevor ariza': 2772, 'trevor booker': 202344, 'trey burke': 203504, 'tristan thompson': 202684, 'ty lawson': 201951, 'tyler hansbrough': 201946, 'tyler zeller': 203092, 'tyreke evans': 201936, 'tyson chandler': 2199, 'udonis haslem': 2617, 'victor oladipo': 203506, 'vince carter': 1713, 'wayne ellington': 201961, 'wesley johnson': 202325, 'wesley matthews': 202083, 'wilson chandler': 201163, 'zach lavine': 203897, 'zach randolph': 2216, 'zaza pachulia': 2585}\n",
            "{'acy': 203112, 'adams': 203500, 'adrien': 202399, 'afflalo': 201167, 'ajinca': 201582, 'aldemir': 203128, 'aldrich': 202332, 'aldridge': 200746, 'allen': 2754, 'aminu': 202329, 'amundson': 200811, 'andersen': 2365, 'anderson': 201583, 'antetokounmpo': 203507, 'anthony': 201202, 'antic': 203544, 'ariza': 2772, 'arthur': 201589, 'asik': 201600, 'augustin': 201571, 'ayres': 201965, 'babbitt': 202337, 'bairstow': 203946, 'barbosa': 2571, 'barea': 200826, 'bargnani': 200745, 'barnes': 2440, 'barron': 2853, 'barton': 203115, 'bass': 101138, 'batum': 201587, 'bayless': 201573, 'baynes': 203382, 'bazemore': 203145, 'beal': 203078, 'beasley': 201563, 'belinelli': 201158, 'bennett': 203461, 'beverley': 201976, 'biyombo': 202687, 'black': 204028, 'blair': 201971, 'blake': 2581, 'bledsoe': 202339, 'bogdanovic': 202711, 'bogut': 101106, 'bonner': 2588, 'booker': 202344, 'boozer': 2430, 'bosh': 2547, 'bradley': 202340, 'brand': 1882, 'brewer': 201147, 'brooks': 201166, 'brown': 200769, 'bryant': 977, 'budinger': 201978, 'bullock': 203493, 'burke': 203504, 'burks': 202692, 'butler': 2446, 'caboclo': 203998, 'calathes': 201979, 'calderon': 101181, 'caldwell-pope': 203484, 'canaan': 203477, 'capela': 203991, 'carroll': 201960, 'carter': 1713, 'carter-williams': 203487, 'casspi': 201956, 'chalmers': 201596, 'chandler': 201163, 'cherry': 203805, 'christopher': 203565, 'clark': 203546, 'clarkson': 203903, 'claver': 201964, 'cole': 202708, 'collison': 2555, 'conley': 201144, 'copeland': 203142, 'cousins': 202326, 'covington': 203496, 'crabbe': 203459, 'crawford': 2037, 'crowder': 203109, 'cunningham': 203099, 'curry': 201939, 'dalembert': 2223, 'daniels': 203584, 'datome': 203540, 'davies': 203561, 'davis': 201175, 'dawkins': 203958, 'daye': 201948, 'derozan': 201942, 'dedmon': 203473, 'dellavedova': 203521, 'deng': 2736, 'diaw': 2564, 'dieng': 203476, 'dinwiddie': 203915, 'dorsey': 201595, 'dos santos': 202235, 'douglas': 201962, 'douglas-roberts': 201604, 'dragic': 204054, 'drew': 203580, 'drummond': 203083, 'dudley': 201162, 'duncan': 1495, 'dunleavy': 2399, 'durant': 201142, 'early': 203921, 'ellington': 201961, 'ellis': 101145, 'ennis': 203898, 'evans': 201936, 'exum': 203957, 'ezeli': 203105, 'faried': 202702, 'farmar': 200770, 'favors': 202324, 'felton': 101109, 'fields': 202361, 'fournier': 203095, 'foye': 200751, 'frazier': 204025, 'fredette': 202690, 'freeland': 200777, 'frye': 101112, 'gallinari': 201568, 'galloway': 204038, 'garcia': 101128, 'garnett': 708, 'gasol': 2200, 'gay': 200752, 'gee': 202087, 'gibson': 201959, 'ginobili': 1938, 'gobert': 203497, 'gooden': 2400, 'goodwin': 203462, 'gordon': 201569, 'gortat': 101162, 'granger': 101122, 'grant': 203924, 'green': 2584, 'griffin': 201933, 'gutierrez': 203268, 'hairston': 203798, 'hamilton': 203120, 'hansbrough': 201946, 'hardaway jr.': 203501, 'harden': 201935, 'harkless': 203090, 'harris': 202699, 'haslem': 2617, 'hawes': 201150, 'hayes': 101236, 'hayward': 202330, 'haywood': 2217, 'henderson': 201945, 'henry': 202333, 'henson': 203089, 'hibbert': 201579, 'hickson': 201581, 'hill': 203524, 'hinrich': 2550, 'holiday': 203200, 'hollins': 200797, 'hood': 203918, 'horford': 201143, 'howard': 2730, 'hummel': 203133, 'humphries': 2743, 'ibaka': 201586, 'iguodala': 2738, 'ilyasova': 101141, 'ingles': 204060, 'irving': 202681, 'jack': 101127, 'jackson': 202704, 'james': 2544, 'jefferson': 2210, 'jenkins': 203098, 'jennings': 201943, 'jerebko': 201973, 'jerrett': 203511, 'johnson': 202325, 'jones': 203093, 'jordan': 202366, 'joseph': 202709, 'kaman': 2549, 'kanter': 202683, 'karasev': 203508, 'kelly': 203527, 'kidd-gilchrist': 203077, 'kirilenko': 1905, 'kirk': 203945, 'knight': 202688, 'korver': 2594, 'koufos': 201585, 'kuzmic': 203136, 'lavine': 203897, 'lamb': 203087, 'landry': 201171, 'larkin': 203499, 'lauvergne': 203530, 'lawson': 201951, 'ledo': 203495, 'lee': 101135, 'len': 203458, 'leonard': 203086, 'leuer': 202720, 'lillard': 203081, 'lin': 202391, 'livingston': 2733, 'lopez': 201577, 'love': 201567, 'lowry': 200768, 'lucas iii': 101249, 'lucas': 203564, 'mack': 202714, 'mahinmi': 101133, 'marble': 203906, 'marion': 1890, 'marshall': 203088, 'martin': 2755, 'matthews': 202083, 'maxiell': 101131, 'mayo': 201564, 'mbah a moute': 201601, 'mcadoo': 203949, 'mccallum': 203492, 'mccollum': 203468, 'mcdaniels': 203909, 'mcdermott': 203926, 'mcgary': 203956, 'mcgee': 201580, 'mclemore': 203463, 'mcroberts': 201177, 'meeks': 201975, 'mekel': 203539, 'middleton': 203114, 'miles': 101139, 'miller': 203296, 'mills': 201988, 'millsap': 200794, 'mirotic': 202703, 'mohammed': 1737, 'monroe': 202328, 'moore': 202734, 'moreland': 203961, 'morris': 202693, 'morrow': 201627, 'motiejunas': 202700, 'mozgov': 202389, 'muhammad': 203498, 'murry': 203315, 'muscala': 203488, 'napier': 203894, 'neal': 202390, 'nelson': 2749, 'nene': 2403, 'nicholson': 203094, 'noah': 201149, 'noel': 203457, 'nogueira': 203512, 'novak': 200779, 'nowitzki': 1717, 'nurkic': 203994, \"o'bryant\": 203948, \"o'quinn\": 203124, 'oladipo': 203506, 'olynyk': 203482, 'pachulia': 2585, 'papanikolaou': 203123, 'pargo': 2457, 'parker': 2225, 'parsons': 202718, 'patterson': 202335, 'paul': 101108, 'payne': 203940, 'payton': 203901, 'pekovic': 201593, 'perkins': 2570, 'pierce': 1718, 'plumlee': 203101, 'pondexter': 202347, 'porter': 203490, 'powell': 203939, 'pressey': 203515, 'price': 101179, 'prigioni': 203143, 'prince': 2419, 'raduljica': 203545, 'randle': 203944, 'randolph': 2216, 'redick': 200755, 'rice jr.': 203318, 'richardson': 2202, 'ridnour': 2557, 'rivers': 203085, 'roberson': 203460, 'roberts': 203148, 'robinson': 203080, 'rondo': 200765, 'rose': 201565, 'ross': 203082, 'rubio': 201937, 'rudez': 204014, 'rush': 201575, 'sacre': 203135, 'salmons': 2422, 'sampson': 203960, 'sanders': 202336, 'schroder': 203471, 'scola': 2449, 'scott': 203118, 'sefolosha': 200757, 'seraphin': 202338, 'sessions': 201196, 'shumpert': 202697, 'shved': 203144, 'sims': 203156, 'singler': 202713, 'sloan': 202388, 'smart': 203935, 'smith': 203893, 'snell': 203503, 'speights': 201578, 'splitter': 201168, 'stauskas': 203917, 'stephenson': 202362, 'stiemsma': 201880, 'stokes': 203950, 'stoudemire': 2405, 'stuckey': 201155, 'sullinger': 203096, 'taylor': 203106, 'teague': 201952, 'teletovic': 203141, 'telfair': 2742, 'temple': 202066, 'terry': 1891, 'thomas': 202952, 'thompson': 202684, 'thornton': 201977, 'tolliver': 201229, 'tucker': 200782, 'turiaf': 101142, 'turkoglu': 2045, 'turner': 202323, 'udoh': 202327, 'udrih': 2757, 'valanciunas': 202685, 'varejao': 2760, 'vasquez': 202349, 'villanueva': 101111, 'vonleh': 203943, 'vucevic': 202696, 'wade': 2548, 'waiters': 203079, 'walker': 202689, 'wall': 202322, 'wallace': 2222, 'warren': 203933, 'watson': 201228, 'wear': 204037, 'webster': 101110, 'west': 2561, 'westbrook': 201566, 'whiteside': 202355, 'whittington': 203963, 'wiggins': 203952, 'wilcox': 203912, 'williams': 200761, 'withey': 203481, 'wolters': 203489, 'wright': 2748, 'wroten': 203100, 'young': 201152, 'zeller': 203092}\n",
            "PRINTING MATRIX\n",
            "[]\n",
            "[('harrison barnes', 'matthew dellavedova', 0.4911504424778761), ('leandro barbosa', 'kyrie irving', 0.4773662551440329), ('stephen curry', 'shawn marion', 0.49309245483528164), ('klay thompson', 'lebron james', 0.46379853095487933), ('marreese speights', 'tristan thompson', 0.5010438413361169), ('shaun livingston', 'kevin love', 0.5277777777777778), ('andrew bogut', 'mike miller', 0.5508474576271186), ('andre iguodala', 'joe harris', 0.4634146341463415), ('draymond green', 'timofey mozgov', 0.43853211009174314)]\n",
            "Optimal Offensive Matchups:\n"
          ]
        },
        {
          "output_type": "display_data",
          "data": {
            "text/plain": [
              "<IPython.core.display.HTML object>"
            ],
            "text/html": [
              "\n",
              "        <div style=\"display: flex; align-items: center;\">\n",
              "            <img src=\"https://cdn.nba.com/headshots/nba/latest/1040x760/203084.png\" width=\"100\" style=\"margin-right: 10px;\" />\n",
              "            <p style=\"font-size: 18px; margin-right: 10px;\">49.12%</p>\n",
              "            <img src=\"https://cdn.nba.com/headshots/nba/latest/1040x760/203521.png\" width=\"100\" />\n",
              "        </div>\n",
              "    "
            ]
          },
          "metadata": {}
        },
        {
          "output_type": "stream",
          "name": "stdout",
          "text": [
            "Shooter: harrison barnes vs Defender: matthew dellavedova | Expected FG%: 49.12%\n"
          ]
        },
        {
          "output_type": "display_data",
          "data": {
            "text/plain": [
              "<IPython.core.display.HTML object>"
            ],
            "text/html": [
              "\n",
              "        <div style=\"display: flex; align-items: center;\">\n",
              "            <img src=\"https://cdn.nba.com/headshots/nba/latest/1040x760/2571.png\" width=\"100\" style=\"margin-right: 10px;\" />\n",
              "            <p style=\"font-size: 18px; margin-right: 10px;\">47.74%</p>\n",
              "            <img src=\"https://cdn.nba.com/headshots/nba/latest/1040x760/202681.png\" width=\"100\" />\n",
              "        </div>\n",
              "    "
            ]
          },
          "metadata": {}
        },
        {
          "output_type": "stream",
          "name": "stdout",
          "text": [
            "Shooter: leandro barbosa vs Defender: kyrie irving | Expected FG%: 47.74%\n"
          ]
        },
        {
          "output_type": "display_data",
          "data": {
            "text/plain": [
              "<IPython.core.display.HTML object>"
            ],
            "text/html": [
              "\n",
              "        <div style=\"display: flex; align-items: center;\">\n",
              "            <img src=\"https://cdn.nba.com/headshots/nba/latest/1040x760/201939.png\" width=\"100\" style=\"margin-right: 10px;\" />\n",
              "            <p style=\"font-size: 18px; margin-right: 10px;\">49.31%</p>\n",
              "            <img src=\"https://cdn.nba.com/headshots/nba/latest/1040x760/1890.png\" width=\"100\" />\n",
              "        </div>\n",
              "    "
            ]
          },
          "metadata": {}
        },
        {
          "output_type": "stream",
          "name": "stdout",
          "text": [
            "Shooter: stephen curry vs Defender: shawn marion | Expected FG%: 49.31%\n"
          ]
        },
        {
          "output_type": "display_data",
          "data": {
            "text/plain": [
              "<IPython.core.display.HTML object>"
            ],
            "text/html": [
              "\n",
              "        <div style=\"display: flex; align-items: center;\">\n",
              "            <img src=\"https://cdn.nba.com/headshots/nba/latest/1040x760/202691.png\" width=\"100\" style=\"margin-right: 10px;\" />\n",
              "            <p style=\"font-size: 18px; margin-right: 10px;\">46.38%</p>\n",
              "            <img src=\"https://cdn.nba.com/headshots/nba/latest/1040x760/2544.png\" width=\"100\" />\n",
              "        </div>\n",
              "    "
            ]
          },
          "metadata": {}
        },
        {
          "output_type": "stream",
          "name": "stdout",
          "text": [
            "Shooter: klay thompson vs Defender: lebron james | Expected FG%: 46.38%\n"
          ]
        },
        {
          "output_type": "display_data",
          "data": {
            "text/plain": [
              "<IPython.core.display.HTML object>"
            ],
            "text/html": [
              "\n",
              "        <div style=\"display: flex; align-items: center;\">\n",
              "            <img src=\"https://cdn.nba.com/headshots/nba/latest/1040x760/201578.png\" width=\"100\" style=\"margin-right: 10px;\" />\n",
              "            <p style=\"font-size: 18px; margin-right: 10px;\">50.10%</p>\n",
              "            <img src=\"https://cdn.nba.com/headshots/nba/latest/1040x760/202684.png\" width=\"100\" />\n",
              "        </div>\n",
              "    "
            ]
          },
          "metadata": {}
        },
        {
          "output_type": "stream",
          "name": "stdout",
          "text": [
            "Shooter: marreese speights vs Defender: tristan thompson | Expected FG%: 50.10%\n"
          ]
        },
        {
          "output_type": "display_data",
          "data": {
            "text/plain": [
              "<IPython.core.display.HTML object>"
            ],
            "text/html": [
              "\n",
              "        <div style=\"display: flex; align-items: center;\">\n",
              "            <img src=\"https://cdn.nba.com/headshots/nba/latest/1040x760/2733.png\" width=\"100\" style=\"margin-right: 10px;\" />\n",
              "            <p style=\"font-size: 18px; margin-right: 10px;\">52.78%</p>\n",
              "            <img src=\"https://cdn.nba.com/headshots/nba/latest/1040x760/201567.png\" width=\"100\" />\n",
              "        </div>\n",
              "    "
            ]
          },
          "metadata": {}
        },
        {
          "output_type": "stream",
          "name": "stdout",
          "text": [
            "Shooter: shaun livingston vs Defender: kevin love | Expected FG%: 52.78%\n"
          ]
        },
        {
          "output_type": "display_data",
          "data": {
            "text/plain": [
              "<IPython.core.display.HTML object>"
            ],
            "text/html": [
              "\n",
              "        <div style=\"display: flex; align-items: center;\">\n",
              "            <img src=\"https://cdn.nba.com/headshots/nba/latest/1040x760/101106.png\" width=\"100\" style=\"margin-right: 10px;\" />\n",
              "            <p style=\"font-size: 18px; margin-right: 10px;\">55.08%</p>\n",
              "            <img src=\"https://cdn.nba.com/headshots/nba/latest/1040x760/203296.png\" width=\"100\" />\n",
              "        </div>\n",
              "    "
            ]
          },
          "metadata": {}
        },
        {
          "output_type": "stream",
          "name": "stdout",
          "text": [
            "Shooter: andrew bogut vs Defender: mike miller | Expected FG%: 55.08%\n"
          ]
        },
        {
          "output_type": "display_data",
          "data": {
            "text/plain": [
              "<IPython.core.display.HTML object>"
            ],
            "text/html": [
              "\n",
              "        <div style=\"display: flex; align-items: center;\">\n",
              "            <img src=\"https://cdn.nba.com/headshots/nba/latest/1040x760/2738.png\" width=\"100\" style=\"margin-right: 10px;\" />\n",
              "            <p style=\"font-size: 18px; margin-right: 10px;\">46.34%</p>\n",
              "            <img src=\"https://cdn.nba.com/headshots/nba/latest/1040x760/202699.png\" width=\"100\" />\n",
              "        </div>\n",
              "    "
            ]
          },
          "metadata": {}
        },
        {
          "output_type": "stream",
          "name": "stdout",
          "text": [
            "Shooter: andre iguodala vs Defender: joe harris | Expected FG%: 46.34%\n"
          ]
        },
        {
          "output_type": "display_data",
          "data": {
            "text/plain": [
              "<IPython.core.display.HTML object>"
            ],
            "text/html": [
              "\n",
              "        <div style=\"display: flex; align-items: center;\">\n",
              "            <img src=\"https://cdn.nba.com/headshots/nba/latest/1040x760/203110.png\" width=\"100\" style=\"margin-right: 10px;\" />\n",
              "            <p style=\"font-size: 18px; margin-right: 10px;\">43.85%</p>\n",
              "            <img src=\"https://cdn.nba.com/headshots/nba/latest/1040x760/202389.png\" width=\"100\" />\n",
              "        </div>\n",
              "    "
            ]
          },
          "metadata": {}
        },
        {
          "output_type": "stream",
          "name": "stdout",
          "text": [
            "Shooter: draymond green vs Defender: timofey mozgov | Expected FG%: 43.85%\n",
            "PRINTING MATRIX\n",
            "[]\n",
            "Error: Matrix contains invalid values (NaN or Inf).\n",
            "DEFENSIVE MATCHUP\n",
            "[('harrison barnes', 'matthew dellavedova', 0.0), ('leandro barbosa', 'kyrie irving', 0.0), ('stephen curry', 'shawn marion', 0.0), ('klay thompson', 'lebron james', 0.0), ('marreese speights', 'tristan thompson', 0.0), ('shaun livingston', 'kevin love', 0.0), ('andrew bogut', 'mike miller', 0.0), ('andre iguodala', 'joe harris', 0.0), ('draymond green', 'timofey mozgov', 0.0)]\n",
            "\n",
            "Optimal Defensive Matchups:\n",
            "Defender: harrison barnes vs Shooter: matthew dellavedova | Expected FG% Allowed: 0.00%\n",
            "Defender: leandro barbosa vs Shooter: kyrie irving | Expected FG% Allowed: 0.00%\n",
            "Defender: stephen curry vs Shooter: shawn marion | Expected FG% Allowed: 0.00%\n",
            "Defender: klay thompson vs Shooter: lebron james | Expected FG% Allowed: 0.00%\n",
            "Defender: marreese speights vs Shooter: tristan thompson | Expected FG% Allowed: 0.00%\n",
            "Defender: shaun livingston vs Shooter: kevin love | Expected FG% Allowed: 0.00%\n",
            "Defender: andrew bogut vs Shooter: mike miller | Expected FG% Allowed: 0.00%\n",
            "Defender: andre iguodala vs Shooter: joe harris | Expected FG% Allowed: 0.00%\n",
            "Defender: draymond green vs Shooter: timofey mozgov | Expected FG% Allowed: 0.00%\n",
            "Clutch shots: 4778\n",
            "        GAME_CLOCK_SEC  PERIOD  FGM\n",
            "116407              63       4    0\n",
            "24262               71       4    1\n",
            "80613               76       4    0\n",
            "68297              108       6    0\n",
            "37149               38       4    1\n",
            "72210               87       4    0\n",
            "102936              16       4    0\n",
            "33230               74       4    0\n",
            "108747               8       4    0\n",
            "110276              42       4    1\n",
            "96529               82       4    1\n",
            "49524               87       4    1\n",
            "120201              88       4    1\n",
            "96024               85       4    1\n",
            "46735               54       4    1\n",
            "27567               23       4    0\n",
            "118560              14       4    0\n",
            "55813              105       4    1\n",
            "99518              102       5    0\n",
            "10147              119       4    1\n",
            "Model Accuracy: 0.6506276150627615\n"
          ]
        },
        {
          "output_type": "execute_result",
          "data": {
            "text/plain": [
              "'# Get recommendations\\nbest_shooter = recommend_clutch_shooter(\\n    team_players=[sample_player],  # Replace with real player IDs\\n    current_features=sample_features,\\n    player_stats=player_clutch_stats\\n)\\nprint(f\"Recommended shooter ID: {best_shooter}\")\\n'"
            ],
            "application/vnd.google.colaboratory.intrinsic+json": {
              "type": "string"
            }
          },
          "metadata": {},
          "execution_count": 14
        }
      ],
      "source": [
        "import pandas as pd\n",
        "import numpy as np\n",
        "import matplotlib.pyplot as plt\n",
        "import seaborn as sns\n",
        "from sklearn.model_selection import train_test_split\n",
        "from sklearn.ensemble import RandomForestClassifier\n",
        "from sklearn.metrics import accuracy_score\n",
        "from google.colab import drive\n",
        "from sklearn.preprocessing import StandardScaler, OneHotEncoder\n",
        "drive.mount('/content/drive')\n",
        "from sklearn.pipeline import Pipeline\n",
        "from sklearn.model_selection import GridSearchCV\n",
        "from sklearn.compose import ColumnTransformer\n",
        "from scipy.optimize import linear_sum_assignment\n",
        "!pip install nba_api\n",
        "\n",
        "\n",
        "filePath = 'shotlogs.csv'\n",
        "df = pd.read_csv('/content/drive/MyDrive/shot_logs.csv')\n",
        "df.dropna(inplace=True)\n",
        "#change team to each assigned number\n",
        "df['TEAM_ABBR'] = df.iloc[:, 1].str.extract(r' - ([A-Z]{3})')[0].str.replace(' ', '', regex=True).str.upper()\n",
        "team_order = []\n",
        "team_mapping = {}\n",
        "for team in df['TEAM_ABBR']:\n",
        "    if team not in team_mapping:\n",
        "        team_mapping[team] = len(team_mapping) + 1\n",
        "print(team_mapping)\n",
        "#change made to 1 and missed to 0\n",
        "df['FGM'] = df['SHOT_RESULT'].str.contains(r'(?i)made').astype(int)\n",
        "#fill in missing data with average values\n",
        "df['SHOT_CLOCK'] = df['SHOT_CLOCK'].fillna(df.groupby('PERIOD')['SHOT_CLOCK'].transform('mean'))\n",
        "\n",
        "#Calculate shot angle\n",
        "df['SHOT_ANGLE'] = np.arctan(df['SHOT_DIST']/10)\n",
        "#Calculate how much the player is pressured on time\n",
        "df['PRESSURE_RATIO'] = (1/df['CLOSE_DEF_DIST']+0.0000001) * (1/ (df['SHOT_CLOCK'] + 0.000000001))\n",
        "#Convert game clock to seconds\n",
        "df['GAME_CLOCK_SEC'] = df['GAME_CLOCK'].apply(lambda x: int(x.split(':')[0]) * 60 + int(x.split(':')[1]))\n",
        "#Calculate time for clutch(criteria = 2 min)\n",
        "df['CLUTCH_TIME'] = ((df['GAME_CLOCK_SEC'] < 120) & (df['PERIOD'] >= 4)).astype(int)\n",
        "\n",
        "#Extract Defender ID\n",
        "df['DEFENDER_ID'] = df['CLOSEST_DEFENDER'].str.extract(r'\\((.*?)\\)')[0]\n",
        "df['MATCHUP_TEAMS'] = df['MATCHUP'].str.split(' - ').str[-1]\n",
        "df['OPPONENT_TEAM'] = df['MATCHUP_TEAMS'].apply(lambda x:x.split(' vs. ')[1] if ' vs. ' in x else None)\n",
        "\n",
        "#find best clutch shooter\n",
        "clutch_df = df[df['CLUTCH_TIME'] ==1].copy()\n",
        "\n",
        "\n",
        "\n",
        "player_clutch_stats = clutch_df.groupby('player_name').agg(PLAYER_CLUTCH_FG = ('FGM','mean'),PLAYER_CLUTCH_SHOT_DIST = ('SHOT_DIST','mean'),PLAYER_CLUTCH_DEF_DIST = ('CLOSE_DEF_DIST','mean')).reset_index()\n",
        "clutch_df = clutch_df.merge(player_clutch_stats, on = 'player_name', how = 'left')\n",
        "\n",
        "#Group Statistics\n",
        "numeric_features = ['SHOT_DIST', 'CLOSE_DEF_DIST', 'SHOT_CLOCK','SHOT_ANGLE', 'PRESSURE_RATIO', 'PLAYER_CLUTCH_FG', 'PLAYER_CLUTCH_SHOT_DIST']\n",
        "\n",
        "categorical_features = ['PERIOD']\n",
        "\n",
        "preprocessor = ColumnTransformer(transformers=[('num', StandardScaler(), numeric_features),('cat', OneHotEncoder(), categorical_features)])\n",
        "\n",
        "X = clutch_df[numeric_features + categorical_features]\n",
        "y = clutch_df['FGM']\n",
        "\n",
        "X_train, X_test, y_train, y_test = train_test_split(X, y, test_size=0.2, random_state=42)\n",
        "X_train = X_train.fillna(0).replace([np.inf, -np.inf], np.nan).fillna(0).clip(-1e10, 1e10)\n",
        "X_test = X_test.fillna(0).replace([np.inf, -np.inf], np.nan).fillna(0).clip(-1e10, 1e10)\n",
        "model = Pipeline([('preprocessor',preprocessor), ('classifier',RandomForestClassifier(random_state = 42))])\n",
        "\n",
        "model.fit(X_train,y_train)\n",
        "\n",
        "\n",
        "from sklearn import tree\n",
        "import pandas as pd\n",
        "from sklearn.ensemble import RandomForestClassifier\n",
        "from sklearn.model_selection import train_test_split\n",
        "\n",
        "#fn=data.feature_names\n",
        "#cn=data.target_names\n",
        "#fig, axes = plt.subplots(nrows = 1,ncols = 1,figsize = (4,4), dpi=800)\n",
        "#tree.plot_tree(rf.estimators_[0],\n",
        "     #          feature_names = fn,\n",
        " #              class_names=cn,\n",
        "       #        filled = True);\n",
        "#fig.savefig('rf_individualtree.png')\n",
        "\n",
        "\n",
        "def recommend_clutch_shooter(team_players,current_features,player_stats):\n",
        "  predictions = []\n",
        "  for player in team_players:\n",
        "    input_data = current_features.copy()\n",
        "    p_stats = player_stats[player_stats['player_name'] == player].iloc[0]\n",
        "    input_data.update({'PLAYER_CLUTCH_FG':p_stats['PLAYER_CLUTCH_FG'],'PLAYER_CLUTCH_SHOT_DIST': p_stats['PLAYER_CLUTCH_SHOT_DIST']})\n",
        "    input_df = pd.DataFrame([input_data])\n",
        "    prob = model.predict_proba(input_df)[0][1]\n",
        "    predictions.append((player,prob))\n",
        "  return max(predictions, key = lambda x: x[1])[0]\n",
        "\n",
        "\n",
        "#create match up\n",
        "def create_matchup_matrix(team_a_players, team_b_players, matchup_data, is_offensive=True):\n",
        "  matrix = []\n",
        "  print(\"PRINTING MATRIX\")\n",
        "  print(matrix)\n",
        "  for a_player in team_a_players:\n",
        "      row = []\n",
        "      for b_player in team_b_players:\n",
        "          # Try to find historical matchup data\n",
        "          if is_offensive:\n",
        "              matchup = matchup_data[\n",
        "                  (matchup_data['player_name'] == a_player) &\n",
        "                  (matchup_data['DEFENDER_ID'] == b_player)\n",
        "              ]\n",
        "          else:\n",
        "              matchup = matchup_data[\n",
        "                  (matchup_data['player_name'] == b_player) &\n",
        "                  (matchup_data['DEFENDER_ID'] == a_player)\n",
        "              ]\n",
        "\n",
        "          if not matchup.empty:\n",
        "              fg_pct = matchup['FGM'].mean()\n",
        "          else:\n",
        "              # Fallback to player's overall average if no matchup data\n",
        "              if is_offensive:\n",
        "                  fg_pct = df[df['player_name'] == a_player]['FGM'].mean()\n",
        "              else:\n",
        "                  fg_pct = 1 - df[df['DEFENDER_ID'] == a_player]['FGM'].mean()\n",
        "          row.append(fg_pct)\n",
        "      matrix.append(row)\n",
        "  return np.array(matrix)\n",
        "\n",
        "\n",
        "def optimize_matchups(team_a, team_b, is_offensive=True):\n",
        "  team_a_players = df[df['TEAM_ABBR'] == team_a]['player_name'].unique()\n",
        "  team_b_players = df[df['TEAM_ABBR'] == team_b]['player_name'].unique()\n",
        "  matchup_subset = df[df['MATCHUP'].str.contains(f\"{team_a} vs. {team_b}|{team_b} vs. {team_a}\")]\n",
        "  matrix = create_matchup_matrix(team_a_players, team_b_players, matchup_subset, is_offensive)\n",
        "  if np.any(np.isnan(matrix)) or np.any(np.isinf(matrix)):\n",
        "        print(\"Error: Matrix contains invalid values (NaN or Inf).\")\n",
        "        # You can replace invalid values with 0 or another placeholder value here\n",
        "        matrix = np.nan_to_num(matrix, nan=0, posinf=0, neginf=0)\n",
        "  row_ind, col_ind = linear_sum_assignment(-matrix) if is_offensive else linear_sum_assignment(matrix)\n",
        "  optimal_pairs = []\n",
        "\n",
        "\n",
        "  for r, c in zip(row_ind, col_ind):\n",
        "      a_player = team_a_players[r]\n",
        "      b_player = team_b_players[c]\n",
        "      optimal_pairs.append((\n",
        "          a_player,\n",
        "          b_player,\n",
        "          matrix[r][c]\n",
        "      ))\n",
        "\n",
        "  return optimal_pairs\n",
        "\n",
        "# Example usage\n",
        "team_a = 'GSW'\n",
        "team_b = 'CLE'\n",
        "\n",
        "from IPython.display import Image, display, HTML\n",
        "player_id_dict = df.groupby('player_name')['player_id'].unique().apply(lambda x: x[0]).to_dict()\n",
        "player_id_dict = {k.lower(): v for k,v in player_id_dict.items()}\n",
        "print(player_id_dict)\n",
        "defender_id_dict = df.groupby('CLOSEST_DEFENDER')['CLOSEST_DEFENDER_PLAYER_ID'].unique().apply(lambda x: x[0]).to_dict()\n",
        "defender_id_dict = {key.split(',')[0]: value for key, value in defender_id_dict.items()}\n",
        "defender_id_dict = {k.lower(): v for k,v in defender_id_dict.items()}\n",
        "print(defender_id_dict)\n",
        "base_url = 'https://cdn.nba.com/headshots/nba/latest/1040x760/'\n",
        "\n",
        "\n",
        "# Offensive matchups (Team A's best offensive players vs Team B's weakest defenders)\n",
        "offensive_matchups = optimize_matchups(team_a, team_b, is_offensive=True)\n",
        "print(offensive_matchups)\n",
        "print(\"Optimal Offensive Matchups:\")\n",
        "for matchup in offensive_matchups:\n",
        "    player_id = player_id_dict[matchup[0]]\n",
        "    defender_id = defender_id_dict[matchup[1].split()[1]]\n",
        "    final_url_player = base_url + str(player_id) + '.png'\n",
        "    final_url_defender = base_url + str(defender_id) + '.png'\n",
        "\n",
        "    display(HTML(f\"\"\"\n",
        "        <div style=\"display: flex; align-items: center;\">\n",
        "            <img src=\"{final_url_player}\" width=\"100\" style=\"margin-right: 10px;\" />\n",
        "            <p style=\"font-size: 18px; margin-right: 10px;\">{matchup[2]:.2%}</p>\n",
        "            <img src=\"{final_url_defender}\" width=\"100\" />\n",
        "        </div>\n",
        "    \"\"\"))\n",
        "\n",
        "    print(f\"Shooter: {matchup[0]} vs Defender: {matchup[1]} | Expected FG%: {matchup[2]:.2%}\")\n",
        "\n",
        "\n",
        "defensive_matchups = optimize_matchups(team_a, team_b, is_offensive=False)\n",
        "print(\"DEFENSIVE MATCHUP\")\n",
        "print(defensive_matchups)\n",
        "print(\"\\nOptimal Defensive Matchups:\")\n",
        "for matchup in defensive_matchups:\n",
        "    print(f\"Defender: {matchup[0]} vs Shooter: {matchup[1]} | Expected FG% Allowed: {matchup[2]:.2%}\")\n",
        "\n",
        "\n",
        "#test clutch shots\n",
        "clutch_df = df[(df['CLUTCH_TIME'] == 1) & (df['PERIOD'] >= 4)]\n",
        "print(f\"Clutch shots: {len(clutch_df)}\")\n",
        "print(clutch_df[['GAME_CLOCK_SEC', 'PERIOD', 'FGM']].sample(20))\n",
        "#test model\n",
        "y_pred = model.predict(X_test)\n",
        "print(f\"Model Accuracy: {accuracy_score(y_test, y_pred)}\")\n",
        "\n",
        "# Test Clutch Shooter Recommendation\n",
        "# Test with dummy data\n",
        "sample_player = df['player_name'].iloc[0]  # Pick a player from your dataset\n",
        "sample_features = {\n",
        "    'SHOT_DIST': 15,\n",
        "    'CLOSE_DEF_DIST': 2,\n",
        "    'SHOT_CLOCK': 5.0,\n",
        "    'SHOT_ANGLE': np.arctan(15/10),\n",
        "    'PRESSURE_RATIO': (1/2) * (1/5),\n",
        "    'PERIOD': 4\n",
        "}\n",
        "'''# Get recommendations\n",
        "best_shooter = recommend_clutch_shooter(\n",
        "    team_players=[sample_player],  # Replace with real player IDs\n",
        "    current_features=sample_features,\n",
        "    player_stats=player_clutch_stats\n",
        ")\n",
        "print(f\"Recommended shooter ID: {best_shooter}\")\n",
        "'''\n",
        "#print(df.shape)\n",
        "#print(df.head(6))\n",
        "#print(df.mean())\n",
        "#print(df.info())\n",
        "\n"
      ]
    },
    {
      "cell_type": "code",
      "source": [
        "def scrape_nba_headshots(player_url):\n",
        "    response = requests.get(player_url)\n",
        "    soup = BeautifulSoup(response.content, 'html.parser')\n",
        "\n",
        "    # Debugging: Print the first 500 characters of the HTML to examine the page structure\n",
        "    print(soup.prettify()[:500])  # You can increase this number if needed\n",
        "\n",
        "    headshot_img = soup.find('img', {'class': 'player-headshot'})  # Adjust selector as needed\n",
        "\n",
        "    if headshot_img:\n",
        "        headshot_url = headshot_img['src']\n",
        "        print(f\"Found headshot image URL: {headshot_url}\")\n",
        "\n",
        "        # Download the image using requests.get and save it locally\n",
        "        image_response = requests.get(headshot_url, stream=True)\n",
        "        if image_response.status_code == 200:\n",
        "            with open('player_headshot.jpg', 'wb') as f:\n",
        "                for chunk in image_response.iter_content(1024):\n",
        "                    f.write(chunk)\n",
        "            print(\"Headshot image saved successfully.\")\n",
        "        else:\n",
        "            print(\"Failed to download image.\")\n",
        "    else:\n",
        "        print(\"Headshot image not found. The class name may be incorrect or the page structure may have changed.\")\n",
        "\n",
        "player_url = \"https://www.nba.com/player/lebron-james/2503\"\n",
        "\n",
        "scrape_nba_headshots(player_url)"
      ],
      "metadata": {
        "id": "W9CnTYlZz5TR"
      },
      "execution_count": null,
      "outputs": []
    }
  ]
}